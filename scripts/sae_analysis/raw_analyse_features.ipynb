{
  "cells": [
    {
      "cell_type": "code",
      "execution_count": null,
      "metadata": {
        "colab": {
          "base_uri": "https://localhost:8080/"
        },
        "id": "imuvS7UccO4B",
        "outputId": "44c414bb-be7d-47ec-af96-ce6c1e2b2b16"
      },
      "outputs": [],
      "source": [
        "!pip install datasets tensordict"
      ]
    },
    {
      "cell_type": "code",
      "execution_count": null,
      "metadata": {
        "colab": {
          "base_uri": "https://localhost:8080/"
        },
        "id": "zZhk9jcncpAG",
        "outputId": "bf687c4c-e562-41a9-b723-32e0aff3a8cc"
      },
      "outputs": [],
      "source": [
        "!mkdir assets"
      ]
    },
    {
      "cell_type": "code",
      "execution_count": null,
      "metadata": {
        "id": "sSRv9ZXbchLW"
      },
      "outputs": [],
      "source": [
        "CONFIG = \"debug\"\n",
        "\n",
        "RUN_STATS = True\n",
        "RUN_CLF = False\n",
        "RUN_CLS = True\n",
        "USE_C = False"
      ]
    },
    {
      "cell_type": "code",
      "execution_count": null,
      "metadata": {
        "id": "P6RvYsJJcVHp"
      },
      "outputs": [],
      "source": [
        "from datasets import load_dataset\n",
        "import torch\n",
        "import numpy as np\n",
        "\n",
        "dataset = load_dataset(\"lczero-planning/lczero-planning-features\", CONFIG, split=\"test\")"
      ]
    },
    {
      "cell_type": "code",
      "execution_count": null,
      "metadata": {
        "colab": {
          "base_uri": "https://localhost:8080/"
        },
        "id": "E6L40Zud_gQc",
        "outputId": "464e5a65-c02a-4f66-f873-6591f84028c6"
      },
      "outputs": [],
      "source": [
        "torch.autograd.set_grad_enabled(False)"
      ]
    },
    {
      "cell_type": "code",
      "execution_count": null,
      "metadata": {
        "colab": {
          "base_uri": "https://localhost:8080/"
        },
        "id": "FqzrDG4vdU9L",
        "outputId": "5a304adc-7cd8-498b-b5ff-176607c3bbd8"
      },
      "outputs": [],
      "source": [
        "f_ds = dataset.select_columns([\"opt_features\", \"sub_features\", \"pixel_index\", \"root_fen\"]).with_format(\"torch\")\n",
        "f_ds"
      ]
    },
    {
      "cell_type": "code",
      "execution_count": null,
      "metadata": {
        "id": "9QocCNahwFwF"
      },
      "outputs": [],
      "source": [
        "N = len(f_ds)\n",
        "D_F = f_ds[0][\"opt_features\"].shape[0]"
      ]
    },
    {
      "cell_type": "code",
      "execution_count": null,
      "metadata": {
        "id": "J_rN6x2z6W1U"
      },
      "outputs": [],
      "source": [
        "\"\"\"\n",
        "Defines the dictionary classes\n",
        "\"\"\"\n",
        "\n",
        "import torch\n",
        "import torch.nn as nn\n",
        "from tensordict import TensorDict\n",
        "\n",
        "\n",
        "class SparseAutoEncoder(nn.Module):\n",
        "    \"\"\"\n",
        "    A 2-layer sparse autoencoder.\n",
        "    \"\"\"\n",
        "\n",
        "    def __init__(\n",
        "        self,\n",
        "        activation_dim,\n",
        "        dict_size,\n",
        "        pre_bias=False,\n",
        "        init_normalise_dict=None,\n",
        "    ):\n",
        "        super().__init__()\n",
        "        self.activation_dim = activation_dim\n",
        "        self.dict_size = dict_size\n",
        "        self.pre_bias = pre_bias\n",
        "        self.init_normalise_dict = init_normalise_dict\n",
        "\n",
        "        self.b_enc = nn.Parameter(torch.zeros(self.dict_size))\n",
        "        self.relu = nn.ReLU()\n",
        "\n",
        "        self.W_dec = nn.Parameter(\n",
        "            torch.nn.init.kaiming_uniform_(\n",
        "                torch.empty(\n",
        "                    self.dict_size,\n",
        "                    self.activation_dim,\n",
        "                )\n",
        "            )\n",
        "        )\n",
        "        if init_normalise_dict == \"l2\":\n",
        "            self.normalize_dict_(less_than_1=False)\n",
        "            self.W_dec *= 0.1\n",
        "        elif init_normalise_dict == \"less_than_1\":\n",
        "            self.normalize_dict_(less_than_1=True)\n",
        "\n",
        "        self.W_enc = nn.Parameter(self.W_dec.t())\n",
        "        self.b_dec = nn.Parameter(\n",
        "            torch.zeros(\n",
        "                self.activation_dim,\n",
        "            )\n",
        "        )\n",
        "\n",
        "    @torch.no_grad()\n",
        "    def normalize_dict_(\n",
        "        self,\n",
        "        less_than_1=False,\n",
        "    ):\n",
        "        norm = self.W_dec.norm(dim=1)\n",
        "        positive_mask = norm != 0\n",
        "        if less_than_1:\n",
        "            greater_than_1_mask = (norm > 1) & (positive_mask)\n",
        "            self.W_dec[greater_than_1_mask] /= norm[greater_than_1_mask].unsqueeze(1)\n",
        "        else:\n",
        "            self.W_dec[positive_mask] /= norm[positive_mask].unsqueeze(1)\n",
        "\n",
        "    def encode(self, x):\n",
        "        return x @ self.W_enc + self.b_enc\n",
        "\n",
        "    def decode(self, f):\n",
        "        return f @ self.W_dec + self.b_dec\n",
        "\n",
        "    def forward(self, x, output_features=False, ghost_mask=None):\n",
        "        \"\"\"\n",
        "        Forward pass of an autoencoder.\n",
        "        x : activations to be autoencoded\n",
        "        output_features : if True, return the encoded features as well\n",
        "            as the decoded x\n",
        "        ghost_mask : if not None, run this autoencoder in \"ghost mode\"\n",
        "            where features are masked\n",
        "        \"\"\"\n",
        "        if self.pre_bias:\n",
        "            x = x - self.b_dec\n",
        "        f_pre = self.encode(x)\n",
        "        out = TensorDict({}, batch_size=x.shape[0])\n",
        "        if ghost_mask is not None:\n",
        "            f_ghost = torch.exp(f_pre) * ghost_mask.to(f_pre)\n",
        "            x_ghost = f_ghost @ self.W_dec\n",
        "            out[\"x_ghost\"] = x_ghost\n",
        "        f = self.relu(f_pre)\n",
        "        if output_features:\n",
        "            out[\"features\"] = f\n",
        "        x_hat = self.decode(f)\n",
        "        out[\"x_hat\"] = x_hat\n",
        "        return out"
      ]
    },
    {
      "cell_type": "code",
      "execution_count": null,
      "metadata": {
        "colab": {
          "base_uri": "https://localhost:8080/",
          "height": 107,
          "referenced_widgets": [
            "a73b634cce9348ccbde26aea944673f2",
            "641811e98b654ecdaa26d5f2278bf520",
            "cb0aa16e7cad4ee09653f826ed7c4688",
            "eedfc9bf7e5149fb977aa70d95b6189a",
            "b537cf9c36c048f4a87fb3acf0c14f8a",
            "04d77de1fecb45fa9cf3a5232a9efb8b",
            "9943a46a826d4f6eaaf306a103c294df",
            "1949c38a129145e3b96a426b145cd118",
            "8b6d50f701814fa5817ffd3f689ae980",
            "521c7cf6684847298b3e14c7e753f495",
            "d620ae0e418c44c88fcc9d72dd1cf806"
          ]
        },
        "id": "LpSne7iq4yD3",
        "outputId": "607a4e0f-8875-4bff-ccd0-8183e79b0ebb"
      },
      "outputs": [],
      "source": [
        "from huggingface_hub import HfApi\n",
        "import torch\n",
        "\n",
        "hf_api = HfApi()\n",
        "DEVICE = \"cuda\" if torch.cuda.is_available() else \"cpu\"\n",
        "\n",
        "hf_api.snapshot_download(repo_id=\"lczero-planning/lczero-planning-saes\", repo_type=\"model\", local_dir=\"./assets/saes\")\n",
        "sae_dict = torch.load(\n",
        "    f\"./assets/saes/{CONFIG}/model.pt\",\n",
        "    map_location=DEVICE,\n",
        ")\n",
        "sae = SparseAutoEncoder(\n",
        "    256,\n",
        "    D_F,\n",
        "    pre_bias=False,\n",
        "    init_normalise_dict=None,\n",
        ")\n",
        "sae.load_state_dict(sae_dict)\n",
        "sae.to(DEVICE)"
      ]
    },
    {
      "cell_type": "code",
      "execution_count": null,
      "metadata": {
        "id": "kQXBgReZl8kA"
      },
      "outputs": [],
      "source": [
        "unique_fens , unique_indices = np.unique(dataset[\"root_fen\"], return_index=True, axis=0)"
      ]
    },
    {
      "cell_type": "code",
      "execution_count": null,
      "metadata": {
        "colab": {
          "base_uri": "https://localhost:8080/"
        },
        "id": "79yLJcp9mSfe",
        "outputId": "3bbfc7c0-d3dc-4d29-b700-466fa7d232a3"
      },
      "outputs": [],
      "source": [
        "unique_fens"
      ]
    },
    {
      "cell_type": "code",
      "execution_count": null,
      "metadata": {
        "colab": {
          "base_uri": "https://localhost:8080/"
        },
        "id": "uzrnmWPYnGKH",
        "outputId": "a1bbafa8-97b6-4479-e6b3-0b9b6776d86e"
      },
      "outputs": [],
      "source": [
        "np.where(unique_fens=='rr6/1b2q3/1p1p2pk/4n3/1PPRN2p/4Pp1P/1Q3PP1/1R3BK1 b - - 0 32')[0][0]"
      ]
    },
    {
      "cell_type": "code",
      "execution_count": null,
      "metadata": {
        "colab": {
          "base_uri": "https://localhost:8080/",
          "height": 49,
          "referenced_widgets": [
            "d2994a608b86414f8ea2cf4bb6e7c055",
            "0f560c21263d4462869f9bfe9073c2e2",
            "e2e4e557350b4854a333fca0096d1cf1",
            "93f8afc816da4e27ad65e73298752551",
            "4ca7ca049628495fbf12096075312821",
            "30ff6120d2be4161b90be26eebd34ad5",
            "63a9416d8de94191b73f18a6921db454",
            "d99a1722f73a4e7b9850d009c69ba518",
            "f4be1edc1ffa41eaa9df4659f1c41f56",
            "8bf38fb5229645c29e5eadf0878deb2a",
            "0397281400ac481fbc3608462b173220"
          ]
        },
        "id": "jAcPRbv2s-4s",
        "outputId": "13ee6dcc-c235-480c-a4bb-d85401744f2c"
      },
      "outputs": [],
      "source": [
        "import torch\n",
        "\n",
        "if RUN_STATS:\n",
        "    base_stats = {\n",
        "        \"mean\": torch.zeros(D_F),\n",
        "        \"active\": torch.zeros(D_F),\n",
        "        \"active_p\": torch.zeros((64, D_F)),\n",
        "        \"active_fen\": torch.zeros((500,D_F)),\n",
        "        \"opt_dead_loss\": [],\n",
        "        \"opt_active_loss\": [],\n",
        "        \"sub_dead_loss\": [],\n",
        "        \"sub_active_loss\": [],\n",
        "        \"c_diff_loss\": [],\n",
        "        \"d_prod_loss\": [],\n",
        "    }\n",
        "\n",
        "\n",
        "    def compute_stats(batch, stats):\n",
        "        opt_features = batch[\"opt_features\"]\n",
        "        sub_features = batch[\"sub_features\"]\n",
        "\n",
        "        stats[\"mean\"] += batch[\"opt_features\"].sum(dim=0) / (2* N)\n",
        "        stats[\"mean\"] += batch[\"sub_features\"].sum(dim=0) / (2 * N)\n",
        "\n",
        "        opt_alive = batch[\"opt_features\"] != 0\n",
        "        sub_alive = batch[\"sub_features\"] != 0\n",
        "\n",
        "        stats[\"active\"] += opt_alive.sum(dim=0) + sub_alive.sum(dim=0)\n",
        "        for row, p, fen in zip(\n",
        "            torch.cat([opt_alive,sub_alive], dim=0),\n",
        "            batch[\"pixel_index\"],\n",
        "            batch[\"root_fen\"],\n",
        "        ):\n",
        "            stats[\"active_p\"][p,:] += row\n",
        "            idx = np.where(unique_fens == fen)[0][0]\n",
        "            stats[\"active_fen\"][idx,:] += row\n",
        "\n",
        "        stats[\"opt_active_loss\"] += list(opt_alive.sum(dim=1))\n",
        "        stats[\"opt_dead_loss\"] += list(D_F - opt_alive.sum(dim=1))\n",
        "        stats[\"sub_active_loss\"] += list(sub_alive.sum(dim=1))\n",
        "        stats[\"sub_dead_loss\"] += list(D_F - sub_alive.sum(dim=1))\n",
        "\n",
        "        c_opt, d_opt = opt_features.chunk(2, dim=1)\n",
        "        c_sub, d_sub = sub_features.chunk(2, dim=1)\n",
        "        c_diff = c_opt - c_sub\n",
        "        d_prod = d_opt * d_sub\n",
        "\n",
        "        stats[\"c_diff_loss\"] += list(c_diff.norm(p=1, dim=1))\n",
        "        stats[\"d_prod_loss\"] += list(c_diff.norm(p=1, dim=1))\n",
        "\n",
        "\n",
        "    f_ds.map(\n",
        "        compute_stats,\n",
        "        batched=True,\n",
        "        fn_kwargs={\"stats\":base_stats}\n",
        "    )\n"
      ]
    },
    {
      "cell_type": "code",
      "execution_count": null,
      "metadata": {
        "colab": {
          "base_uri": "https://localhost:8080/"
        },
        "id": "4W7WWmxEpXNa",
        "outputId": "e11429af-792e-4140-ca8a-860f5912963e"
      },
      "outputs": [],
      "source": [
        "from torch.nn.functional import kl_div\n",
        "\n",
        "print(\"c\")\n",
        "print((base_stats[\"active\"][:D_F//2]<(2*N*0.001)).sum())\n",
        "print((base_stats[\"active\"][:D_F//2]>(2*N*0.1)).sum())\n",
        "p_probs = base_stats[\"active_p\"][:,:D_F//2]/base_stats[\"active\"][:D_F//2]\n",
        "H = -torch.xlogy(p_probs, p_probs)\n",
        "print(H.sum(dim=0).mean(),H.std(dim=0).mean())\n",
        "fen_probs = base_stats[\"active_fen\"][:,:D_F//2]/base_stats[\"active\"][:D_F//2]\n",
        "H = -torch.xlogy(fen_probs, fen_probs)\n",
        "print(H.sum(dim=0).mean(),H.std(dim=0).mean())\n",
        "print(p_probs.std()*100)\n",
        "print(fen_probs.std()*100)\n",
        "\n",
        "print(\"d\")\n",
        "print((base_stats[\"active\"][D_F//2:]<(2*N*0.001)).sum())\n",
        "print((base_stats[\"active\"][D_F//2:]>(2*N*0.1)).sum())\n",
        "p_probs = base_stats[\"active_p\"][:,D_F//2:]/base_stats[\"active\"][D_F//2:]\n",
        "H = -torch.xlogy(p_probs, p_probs)\n",
        "print(H.sum(dim=0).mean(),H.std(dim=0).mean())\n",
        "fen_probs = base_stats[\"active_fen\"][:,D_F//2:]/base_stats[\"active\"][D_F//2:]\n",
        "H = -torch.xlogy(fen_probs, fen_probs)\n",
        "print(H.sum(dim=0).mean(),H.std(dim=0).mean())\n",
        "print(p_probs.std()*100)\n",
        "print(fen_probs.std()*100)\n",
        "\n",
        "print(\"f\")\n",
        "print((base_stats[\"active\"]<(2*N*0.001)).sum())\n",
        "print((base_stats[\"active\"]>(2*N*0.1)).sum())\n",
        "p_probs = base_stats[\"active_p\"]/base_stats[\"active\"]\n",
        "H = -torch.xlogy(p_probs, p_probs)\n",
        "print(H.sum(dim=0).mean(),H.std(dim=0).mean())\n",
        "fen_probs = base_stats[\"active_fen\"]/base_stats[\"active\"]\n",
        "H = -torch.xlogy(fen_probs, fen_probs)\n",
        "print(H.sum(dim=0).mean(),H.std(dim=0).mean())\n",
        "print(p_probs.std()*100)\n",
        "print(fen_probs.std()*100)\n"
      ]
    },
    {
      "cell_type": "code",
      "execution_count": null,
      "metadata": {
        "colab": {
          "base_uri": "https://localhost:8080/"
        },
        "id": "ECB51iHUt-QO",
        "outputId": "3bc367a5-9402-43ca-c1e8-30106d2d8bed"
      },
      "outputs": [],
      "source": [
        "print((base_stats[\"active_fen\"]==0).sum())"
      ]
    },
    {
      "cell_type": "code",
      "execution_count": null,
      "metadata": {
        "id": "E7nQDm9ZqUJM"
      },
      "outputs": [],
      "source": []
    },
    {
      "cell_type": "code",
      "execution_count": null,
      "metadata": {
        "colab": {
          "base_uri": "https://localhost:8080/",
          "height": 886
        },
        "id": "6Q-lIj2bGbQZ",
        "outputId": "11f31cca-3255-4d7c-e10a-cf2caef6727c"
      },
      "outputs": [],
      "source": [
        "import matplotlib.pyplot as plt\n",
        "\n",
        "if RUN_STATS:\n",
        "    plt.hist(base_stats[\"active\"]/(2*N), bins=200)\n",
        "    plt.xlabel(\"Active rate\")\n",
        "    plt.show()\n",
        "if RUN_STATS:\n",
        "    plt.hist(base_stats[\"active\"]/(2*N), bins=np.logspace(-4, -0.5, 200))\n",
        "    plt.xlabel(\"Active rate\")\n",
        "    plt.xscale('log')\n",
        "    plt.show()"
      ]
    },
    {
      "cell_type": "code",
      "execution_count": null,
      "metadata": {
        "id": "0CJ8tapR3ean"
      },
      "outputs": [],
      "source": [
        "if RUN_STATS:\n",
        "    base_stats[\"dead_loss\"] = base_stats[\"opt_dead_loss\"] + base_stats[\"sub_dead_loss\"]\n",
        "    base_stats[\"active_loss\"] = base_stats[\"opt_active_loss\"] + base_stats[\"sub_active_loss\"]"
      ]
    },
    {
      "cell_type": "code",
      "execution_count": null,
      "metadata": {
        "colab": {
          "base_uri": "https://localhost:8080/",
          "height": 466
        },
        "id": "q5DoWmHq2SsX",
        "outputId": "b420e289-d319-4a71-eb03-f4e833899a46"
      },
      "outputs": [],
      "source": [
        "if RUN_STATS:\n",
        "    labels = [\n",
        "        \"dead_loss\",\n",
        "        \"opt_dead_loss\",\n",
        "        \"sub_dead_loss\",\n",
        "        \"active_loss\",\n",
        "        \"opt_active_loss\",\n",
        "        \"sub_active_loss\",\n",
        "    ]\n",
        "    boxed_data = [base_stats[label] for label in labels]\n",
        "\n",
        "    plt.boxplot(boxed_data, notch=True, vert=True, patch_artist=True, labels=labels)\n",
        "    plt.ylabel(\"Metric value\")\n",
        "    plt.xticks(rotation=20)\n",
        "    plt.show()"
      ]
    },
    {
      "cell_type": "code",
      "execution_count": null,
      "metadata": {
        "colab": {
          "base_uri": "https://localhost:8080/",
          "height": 430
        },
        "id": "Sz0GpwJg31l2",
        "outputId": "c089ced2-f4ba-4c37-d1f7-8c719453805a"
      },
      "outputs": [],
      "source": [
        "if RUN_STATS:\n",
        "    labels = [\n",
        "        \"c_diff_loss\",\n",
        "        \"d_prod_loss\",\n",
        "    ]\n",
        "    boxed_data = [base_stats[label] for label in labels]\n",
        "\n",
        "    plt.boxplot(boxed_data, notch=True, vert=True, patch_artist=True, labels=labels)\n",
        "    plt.ylabel(\"Metric value\")\n",
        "    plt.show()"
      ]
    },
    {
      "cell_type": "code",
      "execution_count": null,
      "metadata": {
        "id": "9GCOceus2nqu"
      },
      "outputs": [],
      "source": [
        "c_opt, d_opt = f_ds[\"opt_features\"].chunk(2, dim=1)\n",
        "c_sub, d_sub = f_ds[\"sub_features\"].chunk(2, dim=1)\n",
        "\n",
        "c_f = torch.cat([c_opt, c_sub], dim=0)\n",
        "d_f = torch.cat([d_opt, d_sub], dim=0)\n",
        "f = torch.cat([f_ds[\"opt_features\"],f_ds[\"sub_features\"]], dim=0)"
      ]
    },
    {
      "cell_type": "code",
      "execution_count": null,
      "metadata": {
        "id": "biNxSUWMz6Ex"
      },
      "outputs": [],
      "source": [
        "from sklearn.linear_model import LogisticRegression\n",
        "\n",
        "\n",
        "if RUN_CLF:\n",
        "    labels = torch.cat([torch.ones(N), torch.zeros(N)])\n",
        "    clf = LogisticRegression(penalty=\"l2\", solver=\"lbfgs\", max_iter=1000)\n"
      ]
    },
    {
      "cell_type": "code",
      "execution_count": null,
      "metadata": {
        "id": "-jNU8LIJ3LXk"
      },
      "outputs": [],
      "source": [
        "from sklearn.metrics import f1_score, recall_score, precision_score\n",
        "\n",
        "if RUN_CLF:\n",
        "\n",
        "    for X in [c_f, d_f, f]:\n",
        "        clf.fit(X, labels)\n",
        "\n",
        "        y_pred = clf.predict(X)\n",
        "\n",
        "        metrics = {}\n",
        "        metrics[\"precision\"] = precision_score(labels, y_pred)\n",
        "        metrics[\"recall\"] = recall_score(labels, y_pred)\n",
        "        metrics[\"f1\"] = f1_score(labels, y_pred)\n",
        "        print(metrics)"
      ]
    },
    {
      "cell_type": "code",
      "execution_count": null,
      "metadata": {
        "id": "CWEqB-BA3jv_"
      },
      "outputs": [],
      "source": [
        "if RUN_CLF:\n",
        "    plt.hist(clf.coef_[0], bins=200)\n",
        "    plt.xlabel(\"coef\")\n",
        "    plt.show()"
      ]
    },
    {
      "cell_type": "code",
      "execution_count": null,
      "metadata": {
        "id": "6NATZQOB0yQ_"
      },
      "outputs": [],
      "source": [
        "from sklearn.model_selection import train_test_split\n",
        "from sklearn.cluster import AgglomerativeClustering, SpectralClustering, KMeans, FeatureAgglomeration\n",
        "from sklearn.manifold import TSNE\n",
        "from sklearn.decomposition import PCA, NMF\n",
        "\n",
        "small_c_f, _, small_d_f, _, small_indices, _,= train_test_split(c_f, d_f, torch.arange(N*2), train_size=0.01, random_state=42)\n",
        "\n",
        "\n",
        "\n"
      ]
    },
    {
      "cell_type": "code",
      "execution_count": null,
      "metadata": {
        "id": "HysWGwWN9A8W"
      },
      "outputs": [],
      "source": [
        "tsne = TSNE(n_components=2, perplexity=20)\n",
        "pca = PCA(n_components=50)\n",
        "nmf = NMF(n_components=50)"
      ]
    },
    {
      "cell_type": "code",
      "execution_count": null,
      "metadata": {
        "colab": {
          "base_uri": "https://localhost:8080/"
        },
        "id": "aoJ0vEB26p-6",
        "outputId": "5812ddbc-dfdc-47a4-a3f8-8fb69b731e9a"
      },
      "outputs": [],
      "source": [
        "cls = AgglomerativeClustering(\n",
        "    n_clusters=100,\n",
        ")\n",
        "cls.fit(small_c_f)\n",
        "c_labels = cls.labels_\n",
        "print(small_d_f.shape)\n",
        "cls.fit(small_d_f)\n",
        "d_labels = cls.labels_"
      ]
    },
    {
      "cell_type": "code",
      "execution_count": null,
      "metadata": {
        "id": "jZmHQfYPFcOc"
      },
      "outputs": [],
      "source": [
        "# X_pca = pca.fit_transform(small_c_f)\n",
        "# X_c_tsne = tsne.fit_transform(X_pca)\n",
        "\n",
        "# # Plot the clustered data\n",
        "# plt.scatter(X_c_tsne[:, 0], X_c_tsne[:, 1], c=c_labels, cmap=\"tab20\")\n",
        "# plt.xlabel(\"AU 1\")\n",
        "# plt.ylabel(\"AU 2\")"
      ]
    },
    {
      "cell_type": "code",
      "execution_count": null,
      "metadata": {
        "colab": {
          "base_uri": "https://localhost:8080/",
          "height": 473
        },
        "id": "hh03TMLismaS",
        "outputId": "01434418-2a7e-4c3e-871c-438acfd32b79"
      },
      "outputs": [],
      "source": [
        "X_nmf = nmf.fit_transform(small_c_f)\n",
        "X_c_tsne = tsne.fit_transform(X_nmf)\n",
        "\n",
        "cls.fit(X_nmf)\n",
        "c_labels = cls.labels_\n",
        "\n",
        "# Plot the clustered data\n",
        "plt.scatter(X_c_tsne[:, 0], X_c_tsne[:, 1], c=c_labels, cmap=\"rainbow\")\n",
        "plt.xlabel(\"AU 1\")\n",
        "plt.ylabel(\"AU 2\")"
      ]
    },
    {
      "cell_type": "code",
      "execution_count": null,
      "metadata": {
        "colab": {
          "base_uri": "https://localhost:8080/",
          "height": 473
        },
        "id": "PEHILR9O9d7K",
        "outputId": "b6a88329-d4fd-4345-948c-71ee65090391"
      },
      "outputs": [],
      "source": [
        "# Plot the clustered data\n",
        "plt.scatter(X_c_tsne[:, 0], X_c_tsne[:, 1], c=c_labels, cmap=\"tab20\")\n",
        "plt.xlabel(\"AU 1\")\n",
        "plt.ylabel(\"AU 2\")"
      ]
    },
    {
      "cell_type": "code",
      "execution_count": null,
      "metadata": {
        "id": "qT68_HHLN5uq"
      },
      "outputs": [],
      "source": [
        "# X_pca = pca.fit_transform(small_d_f)\n",
        "# X_d_tsne = tsne.fit_transform(X_pca)\n",
        "\n",
        "# # Plot the clustered data\n",
        "# plt.scatter(X_d_tsne[:, 0], X_d_tsne[:, 1], c=d_labels, cmap=\"tab20\")\n",
        "# plt.xlabel(\"AU 1\")\n",
        "# plt.ylabel(\"AU 2\")"
      ]
    },
    {
      "cell_type": "code",
      "execution_count": null,
      "metadata": {
        "colab": {
          "base_uri": "https://localhost:8080/",
          "height": 472
        },
        "id": "QpTGvDSQtF3O",
        "outputId": "10ec57db-c24a-449d-cae0-accab6687437"
      },
      "outputs": [],
      "source": [
        "X_nmf = nmf.fit_transform(small_d_f)\n",
        "X_d_tsne = tsne.fit_transform(X_nmf)\n",
        "\n",
        "cls.fit(X_nmf)\n",
        "d_labels = cls.labels_\n",
        "\n",
        "# Plot the clustered data\n",
        "plt.scatter(X_d_tsne[:, 0], X_d_tsne[:, 1], c=d_labels, cmap=\"tab20\")\n",
        "plt.xlabel(\"AU 1\")\n",
        "plt.ylabel(\"AU 2\")"
      ]
    },
    {
      "cell_type": "code",
      "execution_count": null,
      "metadata": {
        "colab": {
          "base_uri": "https://localhost:8080/"
        },
        "id": "hv9CIVS22i9l",
        "outputId": "14dca57f-b6ad-4ac7-8526-96e1511e6309"
      },
      "outputs": [],
      "source": [
        "unique, counts = np.unique(c_labels, return_counts=True)\n",
        "counts"
      ]
    },
    {
      "cell_type": "code",
      "execution_count": null,
      "metadata": {
        "id": "DSxUSBayz-F5"
      },
      "outputs": [],
      "source": [
        "def compute_c_stats(batch, stats):\n",
        "    opt_alive = batch[\"opt_features\"] != 0\n",
        "    sub_alive = batch[\"sub_features\"] != 0\n",
        "\n",
        "    stats[\"active\"] += opt_alive.sum(dim=0) + sub_alive.sum(dim=0)\n",
        "    for row, p, fen in zip(\n",
        "        torch.cat([opt_alive,sub_alive], dim=0),\n",
        "        batch[\"pixel_index\"],\n",
        "        batch[\"root_fen\"],\n",
        "    ):\n",
        "        stats[\"active_p\"][p,:] += row\n",
        "        idx = np.where(unique_fens == fen)[0][0]\n",
        "        stats[\"active_fen\"][idx,:] += row\n",
        "\n",
        "def return_H(indices):\n",
        "    base_stats = {\n",
        "        \"p\": torch.zeros(64),\n",
        "        \"fen\": torch.zeros(500),\n",
        "        \"opt\": torch.zeros(2),\n",
        "    }\n",
        "    for idx in indices:\n",
        "        idx = idx.item()\n",
        "        if idx >= N:\n",
        "            base_stats[\"opt\"][1] += 1\n",
        "            idx -= N\n",
        "        else:\n",
        "            base_stats[\"opt\"][0] += 1\n",
        "        s = f_ds[idx]\n",
        "        p = s[\"pixel_index\"]\n",
        "        fen = s[\"root_fen\"]\n",
        "        base_stats[\"p\"][p] += 1\n",
        "        idx = np.where(unique_fens == fen)[0][0]\n",
        "        base_stats[\"fen\"][idx] += 1\n",
        "    n = len(indices)\n",
        "\n",
        "    return {\n",
        "        \"p\": -torch.xlogy(base_stats[\"p\"]/n, base_stats[\"p\"]/n).sum(),\n",
        "        \"fen\": -torch.xlogy(base_stats[\"fen\"]/n, base_stats[\"fen\"]/n).sum(),\n",
        "        \"opt\": -torch.xlogy(base_stats[\"opt\"]/n, base_stats[\"opt\"]/n).sum(),\n",
        "    }\n"
      ]
    },
    {
      "cell_type": "code",
      "execution_count": null,
      "metadata": {
        "colab": {
          "base_uri": "https://localhost:8080/"
        },
        "id": "P7-ou5jyBDUu",
        "outputId": "5d85e996-602a-4b99-a78f-ead283487829"
      },
      "outputs": [],
      "source": [
        "f_ds[0]"
      ]
    },
    {
      "cell_type": "code",
      "execution_count": null,
      "metadata": {
        "id": "jfk6mWJC-HwY"
      },
      "outputs": [],
      "source": [
        "Hs = []\n",
        "for i in range(100):\n",
        "    bool_index = i == c_labels\n",
        "    sub_indices = small_indices[bool_index]\n",
        "    Hs.append(return_H(sub_indices))\n"
      ]
    },
    {
      "cell_type": "code",
      "execution_count": null,
      "metadata": {
        "colab": {
          "base_uri": "https://localhost:8080/"
        },
        "id": "aZa_JmL2Be-d",
        "outputId": "0724f1bb-810a-4b8f-841e-630950e5a645"
      },
      "outputs": [],
      "source": [
        "H_p = []\n",
        "H_f = []\n",
        "H_o = []\n",
        "\n",
        "for H in Hs:\n",
        "    H_p.append(H[\"p\"])\n",
        "    H_f.append(H[\"fen\"])\n",
        "    H_o.append(H[\"opt\"])\n",
        "print(np.mean(H_p), np.std(H_p))\n",
        "print(np.mean(H_f), np.std(H_f))\n",
        "print(np.mean(H_o), np.std(H_o))"
      ]
    },
    {
      "cell_type": "code",
      "execution_count": null,
      "metadata": {
        "id": "y4BM1ngE-qoH"
      },
      "outputs": [],
      "source": [
        "Hs = []\n",
        "for i in range(100):\n",
        "    bool_index = i == d_labels\n",
        "    sub_indices = small_indices[bool_index]\n",
        "    Hs.append(return_H(sub_indices))\n"
      ]
    },
    {
      "cell_type": "code",
      "execution_count": null,
      "metadata": {
        "colab": {
          "base_uri": "https://localhost:8080/"
        },
        "id": "b-wxDXywD6vf",
        "outputId": "8a9ef07f-ada9-41cd-a660-4ccfd2f05fe0"
      },
      "outputs": [],
      "source": [
        "H_p = []\n",
        "H_f = []\n",
        "H_o = []\n",
        "\n",
        "for H in Hs:\n",
        "    H_p.append(H[\"p\"])\n",
        "    H_f.append(H[\"fen\"])\n",
        "    H_o.append(H[\"opt\"])\n",
        "print(np.mean(H_p), np.std(H_p))\n",
        "print(np.mean(H_f), np.std(H_f))\n",
        "print(np.mean(H_o), np.std(H_o))"
      ]
    },
    {
      "cell_type": "code",
      "execution_count": null,
      "metadata": {
        "colab": {
          "base_uri": "https://localhost:8080/"
        },
        "id": "GiNWVdhaC6ZY",
        "outputId": "7101fca7-0762-4728-9fff-6874e3d69cef"
      },
      "outputs": [],
      "source": [
        "import numpy as np\n",
        "unique, counts = np.unique(c_labels, return_counts=True)\n",
        "counts"
      ]
    },
    {
      "cell_type": "code",
      "execution_count": null,
      "metadata": {
        "colab": {
          "base_uri": "https://localhost:8080/"
        },
        "id": "woxh6O5ILPq6",
        "outputId": "67810244-5750-4484-871c-0cff594bb12b"
      },
      "outputs": [],
      "source": [
        "unique, counts = np.unique(d_labels, return_counts=True)\n",
        "counts"
      ]
    },
    {
      "cell_type": "code",
      "execution_count": null,
      "metadata": {
        "colab": {
          "base_uri": "https://localhost:8080/"
        },
        "id": "rvlb2Tz9OeY_",
        "outputId": "0fbfda85-146e-4558-8a06-2c74f8ad3476"
      },
      "outputs": [],
      "source": [
        "np.corrcoef(c_labels, d_labels)"
      ]
    },
    {
      "cell_type": "code",
      "execution_count": null,
      "metadata": {
        "colab": {
          "base_uri": "https://localhost:8080/"
        },
        "id": "yz73_nTLLRQ0",
        "outputId": "75488079-6747-465c-d2cb-decae9388bd5"
      },
      "outputs": [],
      "source": [
        "max_d = 2\n",
        "max_c = 1\n",
        "np.corrcoef(c_labels==max_c, d_labels==max_c)"
      ]
    },
    {
      "cell_type": "code",
      "execution_count": null,
      "metadata": {
        "colab": {
          "base_uri": "https://localhost:8080/"
        },
        "id": "25r3K7W3Mp47",
        "outputId": "31e1a52a-be2d-4c6d-c942-61e5a46defcf"
      },
      "outputs": [],
      "source": [
        "np.corrcoef(np.eye(100)[c_labels].transpose())"
      ]
    },
    {
      "cell_type": "code",
      "execution_count": null,
      "metadata": {
        "colab": {
          "base_uri": "https://localhost:8080/"
        },
        "id": "EyxvSNFgMp88",
        "outputId": "10cd5968-c6fe-48ac-ef79-a13beb11afaf"
      },
      "outputs": [],
      "source": [
        "cor = np.corrcoef(np.eye(100)[c_labels].transpose(), np.eye(100)[d_labels].transpose())\n",
        "cor[100:, :100].max(axis=1).mean()"
      ]
    },
    {
      "cell_type": "code",
      "execution_count": null,
      "metadata": {
        "id": "2K2wYUrwqaLO"
      },
      "outputs": [],
      "source": [
        "other_d_f, _, other_f, _, = train_test_split(d_f, f, train_size=0.04, random_state=42)\n",
        "dtf_nmf = nmf.fit_transform(other_d_f.T)"
      ]
    },
    {
      "cell_type": "code",
      "execution_count": null,
      "metadata": {
        "colab": {
          "base_uri": "https://localhost:8080/"
        },
        "id": "1_mp6MzpulpM",
        "outputId": "55dd3581-5ac2-447b-d48e-5405af737ac2"
      },
      "outputs": [],
      "source": [
        "dtf_nmf.shape"
      ]
    },
    {
      "cell_type": "code",
      "execution_count": null,
      "metadata": {
        "colab": {
          "base_uri": "https://localhost:8080/",
          "height": 468
        },
        "id": "uFuXgkdqPU2B",
        "outputId": "415f0e98-26a1-4af2-ef55-aabf2253eba4"
      },
      "outputs": [],
      "source": [
        "tsne = TSNE(n_components=2, perplexity=20)\n",
        "cls = AgglomerativeClustering(\n",
        "    n_clusters=100,\n",
        "    linkage=\"average\"\n",
        ")\n",
        "cls.fit(dtf_nmf)\n",
        "dtf_nmf_labels = cls.labels_\n",
        "\n",
        "X_dtf_nmf_tsne = tsne.fit_transform(dtf_nmf)\n",
        "\n",
        "# Plot the clustered data\n",
        "plt.scatter(X_dtf_nmf_tsne[:, 0], X_dtf_nmf_tsne[:, 1], c=dtf_nmf_labels, cmap=\"tab20\")\n",
        "plt.xlabel(\"UA 1\")\n",
        "plt.ylabel(\"UA 2\")"
      ]
    },
    {
      "cell_type": "code",
      "execution_count": null,
      "metadata": {
        "id": "6bgVYkSEFNe_"
      },
      "outputs": [],
      "source": [
        "tf_nmf = nmf.fit_transform(other_f.T)"
      ]
    },
    {
      "cell_type": "code",
      "execution_count": null,
      "metadata": {
        "id": "6Ifo-AzKFoWx"
      },
      "outputs": [],
      "source": [
        "tsne = TSNE(n_components=2, perplexity=30)\n",
        "X_tf_nmf_tsne = tsne.fit_transform(tf_nmf)"
      ]
    },
    {
      "cell_type": "code",
      "execution_count": null,
      "metadata": {
        "colab": {
          "base_uri": "https://localhost:8080/",
          "height": 468
        },
        "id": "7fjLEWA1S04V",
        "outputId": "fccbdaca-ab3a-4e57-9cbf-0f7b4ff30542"
      },
      "outputs": [],
      "source": [
        "\n",
        "cls = AgglomerativeClustering(\n",
        "    n_clusters=None,\n",
        "    distance_threshold=0.3,\n",
        "    linkage=\"ward\"\n",
        ")\n",
        "cls.fit(tf_nmf)\n",
        "tf_nmf_labels = cls.labels_\n",
        "\n",
        "\n",
        "\n",
        "# Plot the clustered data\n",
        "plt.scatter(X_tf_nmf_tsne[:, 0], X_tf_nmf_tsne[:, 1], c=tf_nmf_labels, cmap=\"tab20\")\n",
        "plt.xlabel(\"UA 1\")\n",
        "plt.ylabel(\"UA 2\")"
      ]
    },
    {
      "cell_type": "code",
      "execution_count": null,
      "metadata": {
        "colab": {
          "base_uri": "https://localhost:8080/"
        },
        "id": "HvmWRamuHvIy",
        "outputId": "70a8337c-c9be-43c5-a69f-dbe93ea765e2"
      },
      "outputs": [],
      "source": [
        "unique, counts = np.unique(tf_nmf_labels, return_counts=True)\n",
        "labels_to_drop = np.where(counts<=3)[0]\n",
        "bool_index = tf_nmf_labels == labels_to_drop[0]\n",
        "for label in labels_to_drop:\n",
        "    bool_index = bool_index | (tf_nmf_labels == label)\n",
        "bool_index.sum()"
      ]
    },
    {
      "cell_type": "code",
      "execution_count": null,
      "metadata": {
        "colab": {
          "base_uri": "https://localhost:8080/"
        },
        "id": "x8lIh5m0I3Pb",
        "outputId": "38d1b55c-1b79-41a8-99d6-a813a043d7c7"
      },
      "outputs": [],
      "source": [
        "tf_nmf[~bool_index].shape"
      ]
    },
    {
      "cell_type": "code",
      "execution_count": null,
      "metadata": {
        "colab": {
          "base_uri": "https://localhost:8080/",
          "height": 468
        },
        "id": "7cfpWaO5H6zO",
        "outputId": "a573dbb2-5072-4fc9-8e26-3b246d8e4f39"
      },
      "outputs": [],
      "source": [
        "cls = AgglomerativeClustering(\n",
        "    n_clusters=None,\n",
        "    distance_threshold=0.3,\n",
        "    linkage=\"ward\"\n",
        ")\n",
        "cls.fit(tf_nmf[~bool_index])\n",
        "tf_nmf_labels = cls.labels_\n",
        "\n",
        "\n",
        "\n",
        "# Plot the clustered data\n",
        "plt.scatter(X_tf_nmf_tsne[~bool_index, 0], X_tf_nmf_tsne[~bool_index, 1], c=tf_nmf_labels, cmap=\"tab20\")\n",
        "plt.scatter(X_tf_nmf_tsne[bool_index, 0], X_tf_nmf_tsne[bool_index, 1], c=\"k\", label=\"outliers\")\n",
        "plt.xlabel(\"UA 1\")\n",
        "plt.ylabel(\"UA 2\")\n",
        "plt.legend()"
      ]
    },
    {
      "cell_type": "code",
      "execution_count": null,
      "metadata": {
        "colab": {
          "base_uri": "https://localhost:8080/",
          "height": 914
        },
        "id": "AzKqZoYdRcD7",
        "outputId": "357aafbd-3952-4d72-fa55-268cc591c721"
      },
      "outputs": [],
      "source": [
        "import numpy as np\n",
        "from matplotlib import pyplot as plt\n",
        "from scipy.cluster.hierarchy import dendrogram\n",
        "\n",
        "\n",
        "cls = AgglomerativeClustering(\n",
        "    n_clusters=None,\n",
        "    distance_threshold=0.,\n",
        "    linkage=\"ward\"\n",
        ")\n",
        "cls.fit(tf_nmf[~bool_index])\n",
        "\n",
        "def plot_dendrogram(model, **kwargs):\n",
        "    # Create linkage matrix and then plot the dendrogram\n",
        "\n",
        "    # create the counts of samples under each node\n",
        "    counts = np.zeros(model.children_.shape[0])\n",
        "    n_samples = len(model.labels_)\n",
        "    for i, merge in enumerate(model.children_):\n",
        "        current_count = 0\n",
        "        for child_idx in merge:\n",
        "            if child_idx < n_samples:\n",
        "                current_count += 1  # leaf node\n",
        "            else:\n",
        "                current_count += counts[child_idx - n_samples]\n",
        "        counts[i] = current_count\n",
        "\n",
        "    linkage_matrix = np.column_stack(\n",
        "        [model.children_, model.distances_, counts]\n",
        "    ).astype(float)\n",
        "\n",
        "    # Plot the corresponding dendrogram\n",
        "    dendrogram(linkage_matrix, **kwargs)\n",
        "\n",
        "# plot the top three levels of the dendrogram\n",
        "plt.figure(figsize=(10,6))\n",
        "plot_dendrogram(cls, truncate_mode=\"level\", p=4)\n",
        "ax=plt.gca()\n",
        "labels = [item.get_text() for item in ax.get_xticklabels()]\n",
        "labels = [l if l.startswith('(') else \"\" for l in labels]\n",
        "\n",
        "ax.set_xticklabels(labels)"
      ]
    },
    {
      "cell_type": "code",
      "execution_count": null,
      "metadata": {
        "id": "5aUvLFNkRgcC"
      },
      "outputs": [],
      "source": [
        "cos = torch.nn.CosineSimilarity(dim=1, eps=1e-6)"
      ]
    },
    {
      "cell_type": "code",
      "execution_count": null,
      "metadata": {
        "colab": {
          "base_uri": "https://localhost:8080/"
        },
        "id": "iYWSiv-nzJsF",
        "outputId": "5001903b-5f7a-4261-837a-c1ca6d043739"
      },
      "outputs": [],
      "source": [
        "sae.W_dec.shape"
      ]
    },
    {
      "cell_type": "code",
      "execution_count": null,
      "metadata": {
        "id": "rUaMDYb8-87a"
      },
      "outputs": [],
      "source": [
        "list_sims = []\n",
        "for i in range(2047):\n",
        "    sims = cos(sae.W_dec[i], sae.W_dec[i+1:])\n",
        "    list_sims.append(sims)"
      ]
    },
    {
      "cell_type": "code",
      "execution_count": null,
      "metadata": {
        "colab": {
          "base_uri": "https://localhost:8080/"
        },
        "id": "-IV_fdJy_wiW",
        "outputId": "6df53109-1c2f-4d47-d934-a65532534e3b"
      },
      "outputs": [],
      "source": [
        "cos(sae.W_dec[0], sae.W_dec).shape"
      ]
    },
    {
      "cell_type": "code",
      "execution_count": null,
      "metadata": {
        "id": "Q_xNJOytAoZe"
      },
      "outputs": [],
      "source": [
        "all_sims = torch.cat(list_sims, dim=0)"
      ]
    },
    {
      "cell_type": "code",
      "execution_count": null,
      "metadata": {
        "colab": {
          "base_uri": "https://localhost:8080/"
        },
        "id": "TRnUZ9Z1BIE2",
        "outputId": "030ff52f-12fd-4e26-9443-a15eeca3d4ff"
      },
      "outputs": [],
      "source": [
        "all_sims.shape"
      ]
    },
    {
      "cell_type": "code",
      "execution_count": null,
      "metadata": {
        "colab": {
          "base_uri": "https://localhost:8080/"
        },
        "id": "nwXx4dZKBJiq",
        "outputId": "38640a38-31e5-49d5-ba0a-4da57e2e04ec"
      },
      "outputs": [],
      "source": [
        "(2048 * 2047)/2"
      ]
    },
    {
      "cell_type": "code",
      "execution_count": null,
      "metadata": {
        "id": "V1I-32ufBVEg"
      },
      "outputs": [],
      "source": [
        "c_sims = []\n",
        "for i in range(1023):\n",
        "    sims = cos(sae.W_dec[i], sae.W_dec[i+1:1024])\n",
        "    c_sims.append(sims)\n",
        "all_c_sims = torch.cat(c_sims, dim=0)\n",
        "d_sims = []\n",
        "for i in range(1023):\n",
        "    sims = cos(sae.W_dec[i+1024], sae.W_dec[i+1025:])\n",
        "    d_sims.append(sims)\n",
        "all_d_sims = torch.cat(d_sims, dim=0)\n",
        "cd_sims = []\n",
        "for i in range(1023):\n",
        "    sims = cos(sae.W_dec[i], sae.W_dec[i+1025:])\n",
        "    cd_sims.append(sims)\n",
        "all_cd_sims = torch.cat(cd_sims, dim=0)"
      ]
    },
    {
      "cell_type": "code",
      "execution_count": null,
      "metadata": {
        "colab": {
          "base_uri": "https://localhost:8080/",
          "height": 449
        },
        "id": "DrD7S13dBN5w",
        "outputId": "f098b22d-53f0-45f8-be92-9391ab4ed430"
      },
      "outputs": [],
      "source": [
        "#plt.hist(all_sims, bins=200)\n",
        "plt.hist(all_c_sims, bins=200, label=\"c sim\", alpha=0.3)\n",
        "plt.hist(all_d_sims, bins=200, label=\"d sim\", alpha=0.3)\n",
        "plt.hist(all_cd_sims, bins=200, label=\"c-d sim\", alpha=0.3)\n",
        "plt.legend()"
      ]
    },
    {
      "cell_type": "code",
      "execution_count": null,
      "metadata": {
        "id": "yI9cRUcmhaNG"
      },
      "outputs": [],
      "source": [
        "c_sims = []\n",
        "for i in range(1023):\n",
        "    sims = cos(sae.W_dec[i,:128], sae.W_dec[i+1:1024,:128])\n",
        "    c_sims.append(sims)\n",
        "all_c_sims = torch.cat(c_sims, dim=0)\n",
        "d_sims = []\n",
        "for i in range(1023):\n",
        "    sims = cos(sae.W_dec[i+1024,:128], sae.W_dec[i+1025:,:128])\n",
        "    d_sims.append(sims)\n",
        "all_d_sims = torch.cat(d_sims, dim=0)\n",
        "cd_sims = []\n",
        "for i in range(1023):\n",
        "    sims = cos(sae.W_dec[i,:128], sae.W_dec[i+1025:,:128])\n",
        "    cd_sims.append(sims)\n",
        "all_cd_sims = torch.cat(cd_sims, dim=0)"
      ]
    },
    {
      "cell_type": "code",
      "execution_count": null,
      "metadata": {
        "colab": {
          "base_uri": "https://localhost:8080/",
          "height": 449
        },
        "id": "W2T5LYL8hhsX",
        "outputId": "8fc3b07a-9c88-4a14-9107-14aa7f616c0a"
      },
      "outputs": [],
      "source": [
        "#plt.hist(all_sims, bins=200)\n",
        "plt.hist(all_c_sims, bins=200, label=\"c sims\", alpha=0.3)\n",
        "plt.hist(all_d_sims, bins=200, label=\"d sims\", alpha=0.3)\n",
        "plt.hist(all_cd_sims, bins=200, label=\"cd sims\", alpha=0.3)\n",
        "plt.legend()"
      ]
    },
    {
      "cell_type": "code",
      "execution_count": null,
      "metadata": {
        "id": "EV6oOtbzhldr"
      },
      "outputs": [],
      "source": [
        "c_sims = []\n",
        "for i in range(1023):\n",
        "    sims = cos(sae.W_dec[i,128:], sae.W_dec[i+1:1024,128:])\n",
        "    c_sims.append(sims)\n",
        "all_c_sims = torch.cat(c_sims, dim=0)\n",
        "d_sims = []\n",
        "for i in range(1023):\n",
        "    sims = cos(sae.W_dec[i+1024,128:], sae.W_dec[i+1025:,128:])\n",
        "    d_sims.append(sims)\n",
        "all_d_sims = torch.cat(d_sims, dim=0)\n",
        "cd_sims = []\n",
        "for i in range(1023):\n",
        "    sims = cos(sae.W_dec[i,128:], sae.W_dec[i+1025:,128:])\n",
        "    cd_sims.append(sims)\n",
        "all_cd_sims = torch.cat(cd_sims, dim=0)"
      ]
    },
    {
      "cell_type": "code",
      "execution_count": null,
      "metadata": {
        "colab": {
          "base_uri": "https://localhost:8080/",
          "height": 449
        },
        "id": "MZ1okh_Ihs13",
        "outputId": "f036454d-80e9-4d54-a267-d1036ebc467b"
      },
      "outputs": [],
      "source": [
        "#plt.hist(all_sims, bins=200)\n",
        "plt.hist(all_c_sims, bins=200, label=\"c sims\", alpha=0.3)\n",
        "plt.hist(all_d_sims, bins=200, label=\"d sims\", alpha=0.3)\n",
        "plt.hist(all_cd_sims, bins=200, label=\"cd sims\", alpha=0.3)\n",
        "plt.legend()"
      ]
    },
    {
      "cell_type": "code",
      "execution_count": null,
      "metadata": {
        "id": "AMMX3BgtDGAK"
      },
      "outputs": [],
      "source": [
        "dico = torch.load(\"./dico.pt\")"
      ]
    },
    {
      "cell_type": "code",
      "execution_count": null,
      "metadata": {
        "id": "2DT52nbcgJxW"
      },
      "outputs": [],
      "source": [
        "import torch\n",
        "import matplotlib.pyplot as plt"
      ]
    },
    {
      "cell_type": "code",
      "execution_count": null,
      "metadata": {
        "colab": {
          "base_uri": "https://localhost:8080/"
        },
        "id": "B_gj0j1CfJ3q",
        "outputId": "e79e2cf8-a842-45f6-c040-c306c2955048"
      },
      "outputs": [],
      "source": [
        "dico.shape"
      ]
    },
    {
      "cell_type": "code",
      "execution_count": null,
      "metadata": {
        "id": "WEyjRQdfempM"
      },
      "outputs": [],
      "source": [
        "m = 5000\n",
        "\n",
        "dico_sims = []\n",
        "for i in range(m-1):\n",
        "    sims = cos(dico[i], dico[i+1:m])\n",
        "    dico_sims.append(sims)\n",
        "all_dico_sims = torch.cat(dico_sims, dim=0)"
      ]
    },
    {
      "cell_type": "code",
      "execution_count": null,
      "metadata": {
        "colab": {
          "base_uri": "https://localhost:8080/",
          "height": 449
        },
        "id": "SBqfM4azfXeG",
        "outputId": "69bca714-ffc7-41af-f425-3abf922c8c0f"
      },
      "outputs": [],
      "source": [
        "plt.hist(all_dico_sims, bins=200, label=\"Regular SAE\", alpha=0.3)\n",
        "plt.legend()"
      ]
    },
    {
      "cell_type": "code",
      "execution_count": null,
      "metadata": {
        "colab": {
          "base_uri": "https://localhost:8080/"
        },
        "id": "xNQ3ivHbiiac",
        "outputId": "62ef1d24-2961-4b76-d6da-4546c8154aa4"
      },
      "outputs": [],
      "source": [
        "bool_index.sum()"
      ]
    },
    {
      "cell_type": "code",
      "execution_count": null,
      "metadata": {
        "colab": {
          "base_uri": "https://localhost:8080/"
        },
        "id": "IqxnI2EPfdPl",
        "outputId": "c414c612-16f8-444c-9071-5fd7aef5602c"
      },
      "outputs": [],
      "source": [
        "tf_nmf_labels.shape"
      ]
    },
    {
      "cell_type": "code",
      "execution_count": null,
      "metadata": {
        "colab": {
          "base_uri": "https://localhost:8080/"
        },
        "id": "wi7bSKU-i1lC",
        "outputId": "3ccdda64-d16b-4ed8-867c-efd10050b59a"
      },
      "outputs": [],
      "source": [
        "_, counts = np.unique(tf_nmf_labels, return_counts=True)\n",
        "torch.topk(torch.tensor(counts), k=5)"
      ]
    },
    {
      "cell_type": "code",
      "execution_count": null,
      "metadata": {
        "id": "TdAVNtIBigDk"
      },
      "outputs": [],
      "source": [
        "valid_D = sae.W_dec[~bool_index]"
      ]
    },
    {
      "cell_type": "code",
      "execution_count": null,
      "metadata": {
        "colab": {
          "base_uri": "https://localhost:8080/"
        },
        "id": "uieJDgd1jlT_",
        "outputId": "7c847b27-683c-49ba-a8ff-44e4f4974abe"
      },
      "outputs": [],
      "source": [
        "valid_D.shape"
      ]
    },
    {
      "cell_type": "code",
      "execution_count": null,
      "metadata": {
        "id": "zCMWQBkBiyVj"
      },
      "outputs": [],
      "source": [
        "label_a = 5\n",
        "ai = tf_nmf_labels == label_a\n",
        "a_sims = []\n",
        "for i in range(1680):\n",
        "    if not ai[i]:\n",
        "        continue\n",
        "    sims = cos(valid_D[i], valid_D[i+1:])\n",
        "    a_sims.append(sims)\n",
        "all_a_sims = torch.cat(a_sims, dim=0)\n",
        "label_b = 3\n",
        "bi = tf_nmf_labels == label_b\n",
        "b_sims = []\n",
        "for i in range(1680):\n",
        "    if not bi[i]:\n",
        "        continue\n",
        "    sims = cos(valid_D[i], valid_D[i+1:])\n",
        "    b_sims.append(sims)\n",
        "all_b_sims = torch.cat(b_sims, dim=0)\n",
        "\n",
        "ab_sims = []\n",
        "for i in range(1680):\n",
        "    if not ai[i]:\n",
        "        continue\n",
        "    sims = cos(valid_D[i], valid_D[bi])\n",
        "    ab_sims.append(sims)\n",
        "all_ab_sims = torch.cat(ab_sims, dim=0)"
      ]
    },
    {
      "cell_type": "code",
      "execution_count": null,
      "metadata": {
        "colab": {
          "base_uri": "https://localhost:8080/",
          "height": 449
        },
        "id": "hS9O3ZELjgMd",
        "outputId": "f8c170b1-4818-4d5c-b417-0321a98d5848"
      },
      "outputs": [],
      "source": [
        "plt.hist(all_a_sims, bins=200, label=\"c1\", alpha=0.3)\n",
        "plt.hist(all_b_sims, bins=200, label=\"c2\", alpha=0.3)\n",
        "plt.hist(all_ab_sims, bins=200, label=\"c1-c2\", alpha=0.3)\n",
        "plt.legend()"
      ]
    },
    {
      "cell_type": "code",
      "execution_count": null,
      "metadata": {
        "id": "49qJnYUsjy1D"
      },
      "outputs": [],
      "source": []
    }
  ],
  "metadata": {
    "colab": {
      "machine_shape": "hm",
      "provenance": []
    },
    "kernelspec": {
      "display_name": "Python 3",
      "name": "python3"
    },
    "language_info": {
      "name": "python"
    },
    "widgets": {
      "application/vnd.jupyter.widget-state+json": {
        "0397281400ac481fbc3608462b173220": {
          "model_module": "@jupyter-widgets/controls",
          "model_module_version": "1.5.0",
          "model_name": "DescriptionStyleModel",
          "state": {
            "_model_module": "@jupyter-widgets/controls",
            "_model_module_version": "1.5.0",
            "_model_name": "DescriptionStyleModel",
            "_view_count": null,
            "_view_module": "@jupyter-widgets/base",
            "_view_module_version": "1.2.0",
            "_view_name": "StyleView",
            "description_width": ""
          }
        },
        "04d77de1fecb45fa9cf3a5232a9efb8b": {
          "model_module": "@jupyter-widgets/base",
          "model_module_version": "1.2.0",
          "model_name": "LayoutModel",
          "state": {
            "_model_module": "@jupyter-widgets/base",
            "_model_module_version": "1.2.0",
            "_model_name": "LayoutModel",
            "_view_count": null,
            "_view_module": "@jupyter-widgets/base",
            "_view_module_version": "1.2.0",
            "_view_name": "LayoutView",
            "align_content": null,
            "align_items": null,
            "align_self": null,
            "border": null,
            "bottom": null,
            "display": null,
            "flex": null,
            "flex_flow": null,
            "grid_area": null,
            "grid_auto_columns": null,
            "grid_auto_flow": null,
            "grid_auto_rows": null,
            "grid_column": null,
            "grid_gap": null,
            "grid_row": null,
            "grid_template_areas": null,
            "grid_template_columns": null,
            "grid_template_rows": null,
            "height": null,
            "justify_content": null,
            "justify_items": null,
            "left": null,
            "margin": null,
            "max_height": null,
            "max_width": null,
            "min_height": null,
            "min_width": null,
            "object_fit": null,
            "object_position": null,
            "order": null,
            "overflow": null,
            "overflow_x": null,
            "overflow_y": null,
            "padding": null,
            "right": null,
            "top": null,
            "visibility": null,
            "width": null
          }
        },
        "0f560c21263d4462869f9bfe9073c2e2": {
          "model_module": "@jupyter-widgets/controls",
          "model_module_version": "1.5.0",
          "model_name": "HTMLModel",
          "state": {
            "_dom_classes": [],
            "_model_module": "@jupyter-widgets/controls",
            "_model_module_version": "1.5.0",
            "_model_name": "HTMLModel",
            "_view_count": null,
            "_view_module": "@jupyter-widgets/controls",
            "_view_module_version": "1.5.0",
            "_view_name": "HTMLView",
            "description": "",
            "description_tooltip": null,
            "layout": "IPY_MODEL_30ff6120d2be4161b90be26eebd34ad5",
            "placeholder": "​",
            "style": "IPY_MODEL_63a9416d8de94191b73f18a6921db454",
            "value": "Map: 100%"
          }
        },
        "1949c38a129145e3b96a426b145cd118": {
          "model_module": "@jupyter-widgets/base",
          "model_module_version": "1.2.0",
          "model_name": "LayoutModel",
          "state": {
            "_model_module": "@jupyter-widgets/base",
            "_model_module_version": "1.2.0",
            "_model_name": "LayoutModel",
            "_view_count": null,
            "_view_module": "@jupyter-widgets/base",
            "_view_module_version": "1.2.0",
            "_view_name": "LayoutView",
            "align_content": null,
            "align_items": null,
            "align_self": null,
            "border": null,
            "bottom": null,
            "display": null,
            "flex": null,
            "flex_flow": null,
            "grid_area": null,
            "grid_auto_columns": null,
            "grid_auto_flow": null,
            "grid_auto_rows": null,
            "grid_column": null,
            "grid_gap": null,
            "grid_row": null,
            "grid_template_areas": null,
            "grid_template_columns": null,
            "grid_template_rows": null,
            "height": null,
            "justify_content": null,
            "justify_items": null,
            "left": null,
            "margin": null,
            "max_height": null,
            "max_width": null,
            "min_height": null,
            "min_width": null,
            "object_fit": null,
            "object_position": null,
            "order": null,
            "overflow": null,
            "overflow_x": null,
            "overflow_y": null,
            "padding": null,
            "right": null,
            "top": null,
            "visibility": null,
            "width": null
          }
        },
        "30ff6120d2be4161b90be26eebd34ad5": {
          "model_module": "@jupyter-widgets/base",
          "model_module_version": "1.2.0",
          "model_name": "LayoutModel",
          "state": {
            "_model_module": "@jupyter-widgets/base",
            "_model_module_version": "1.2.0",
            "_model_name": "LayoutModel",
            "_view_count": null,
            "_view_module": "@jupyter-widgets/base",
            "_view_module_version": "1.2.0",
            "_view_name": "LayoutView",
            "align_content": null,
            "align_items": null,
            "align_self": null,
            "border": null,
            "bottom": null,
            "display": null,
            "flex": null,
            "flex_flow": null,
            "grid_area": null,
            "grid_auto_columns": null,
            "grid_auto_flow": null,
            "grid_auto_rows": null,
            "grid_column": null,
            "grid_gap": null,
            "grid_row": null,
            "grid_template_areas": null,
            "grid_template_columns": null,
            "grid_template_rows": null,
            "height": null,
            "justify_content": null,
            "justify_items": null,
            "left": null,
            "margin": null,
            "max_height": null,
            "max_width": null,
            "min_height": null,
            "min_width": null,
            "object_fit": null,
            "object_position": null,
            "order": null,
            "overflow": null,
            "overflow_x": null,
            "overflow_y": null,
            "padding": null,
            "right": null,
            "top": null,
            "visibility": null,
            "width": null
          }
        },
        "4ca7ca049628495fbf12096075312821": {
          "model_module": "@jupyter-widgets/base",
          "model_module_version": "1.2.0",
          "model_name": "LayoutModel",
          "state": {
            "_model_module": "@jupyter-widgets/base",
            "_model_module_version": "1.2.0",
            "_model_name": "LayoutModel",
            "_view_count": null,
            "_view_module": "@jupyter-widgets/base",
            "_view_module_version": "1.2.0",
            "_view_name": "LayoutView",
            "align_content": null,
            "align_items": null,
            "align_self": null,
            "border": null,
            "bottom": null,
            "display": null,
            "flex": null,
            "flex_flow": null,
            "grid_area": null,
            "grid_auto_columns": null,
            "grid_auto_flow": null,
            "grid_auto_rows": null,
            "grid_column": null,
            "grid_gap": null,
            "grid_row": null,
            "grid_template_areas": null,
            "grid_template_columns": null,
            "grid_template_rows": null,
            "height": null,
            "justify_content": null,
            "justify_items": null,
            "left": null,
            "margin": null,
            "max_height": null,
            "max_width": null,
            "min_height": null,
            "min_width": null,
            "object_fit": null,
            "object_position": null,
            "order": null,
            "overflow": null,
            "overflow_x": null,
            "overflow_y": null,
            "padding": null,
            "right": null,
            "top": null,
            "visibility": null,
            "width": null
          }
        },
        "521c7cf6684847298b3e14c7e753f495": {
          "model_module": "@jupyter-widgets/base",
          "model_module_version": "1.2.0",
          "model_name": "LayoutModel",
          "state": {
            "_model_module": "@jupyter-widgets/base",
            "_model_module_version": "1.2.0",
            "_model_name": "LayoutModel",
            "_view_count": null,
            "_view_module": "@jupyter-widgets/base",
            "_view_module_version": "1.2.0",
            "_view_name": "LayoutView",
            "align_content": null,
            "align_items": null,
            "align_self": null,
            "border": null,
            "bottom": null,
            "display": null,
            "flex": null,
            "flex_flow": null,
            "grid_area": null,
            "grid_auto_columns": null,
            "grid_auto_flow": null,
            "grid_auto_rows": null,
            "grid_column": null,
            "grid_gap": null,
            "grid_row": null,
            "grid_template_areas": null,
            "grid_template_columns": null,
            "grid_template_rows": null,
            "height": null,
            "justify_content": null,
            "justify_items": null,
            "left": null,
            "margin": null,
            "max_height": null,
            "max_width": null,
            "min_height": null,
            "min_width": null,
            "object_fit": null,
            "object_position": null,
            "order": null,
            "overflow": null,
            "overflow_x": null,
            "overflow_y": null,
            "padding": null,
            "right": null,
            "top": null,
            "visibility": null,
            "width": null
          }
        },
        "63a9416d8de94191b73f18a6921db454": {
          "model_module": "@jupyter-widgets/controls",
          "model_module_version": "1.5.0",
          "model_name": "DescriptionStyleModel",
          "state": {
            "_model_module": "@jupyter-widgets/controls",
            "_model_module_version": "1.5.0",
            "_model_name": "DescriptionStyleModel",
            "_view_count": null,
            "_view_module": "@jupyter-widgets/base",
            "_view_module_version": "1.2.0",
            "_view_name": "StyleView",
            "description_width": ""
          }
        },
        "641811e98b654ecdaa26d5f2278bf520": {
          "model_module": "@jupyter-widgets/controls",
          "model_module_version": "1.5.0",
          "model_name": "HTMLModel",
          "state": {
            "_dom_classes": [],
            "_model_module": "@jupyter-widgets/controls",
            "_model_module_version": "1.5.0",
            "_model_name": "HTMLModel",
            "_view_count": null,
            "_view_module": "@jupyter-widgets/controls",
            "_view_module_version": "1.5.0",
            "_view_name": "HTMLView",
            "description": "",
            "description_tooltip": null,
            "layout": "IPY_MODEL_04d77de1fecb45fa9cf3a5232a9efb8b",
            "placeholder": "​",
            "style": "IPY_MODEL_9943a46a826d4f6eaaf306a103c294df",
            "value": "Fetching 2 files: 100%"
          }
        },
        "8b6d50f701814fa5817ffd3f689ae980": {
          "model_module": "@jupyter-widgets/controls",
          "model_module_version": "1.5.0",
          "model_name": "ProgressStyleModel",
          "state": {
            "_model_module": "@jupyter-widgets/controls",
            "_model_module_version": "1.5.0",
            "_model_name": "ProgressStyleModel",
            "_view_count": null,
            "_view_module": "@jupyter-widgets/base",
            "_view_module_version": "1.2.0",
            "_view_name": "StyleView",
            "bar_color": null,
            "description_width": ""
          }
        },
        "8bf38fb5229645c29e5eadf0878deb2a": {
          "model_module": "@jupyter-widgets/base",
          "model_module_version": "1.2.0",
          "model_name": "LayoutModel",
          "state": {
            "_model_module": "@jupyter-widgets/base",
            "_model_module_version": "1.2.0",
            "_model_name": "LayoutModel",
            "_view_count": null,
            "_view_module": "@jupyter-widgets/base",
            "_view_module_version": "1.2.0",
            "_view_name": "LayoutView",
            "align_content": null,
            "align_items": null,
            "align_self": null,
            "border": null,
            "bottom": null,
            "display": null,
            "flex": null,
            "flex_flow": null,
            "grid_area": null,
            "grid_auto_columns": null,
            "grid_auto_flow": null,
            "grid_auto_rows": null,
            "grid_column": null,
            "grid_gap": null,
            "grid_row": null,
            "grid_template_areas": null,
            "grid_template_columns": null,
            "grid_template_rows": null,
            "height": null,
            "justify_content": null,
            "justify_items": null,
            "left": null,
            "margin": null,
            "max_height": null,
            "max_width": null,
            "min_height": null,
            "min_width": null,
            "object_fit": null,
            "object_position": null,
            "order": null,
            "overflow": null,
            "overflow_x": null,
            "overflow_y": null,
            "padding": null,
            "right": null,
            "top": null,
            "visibility": null,
            "width": null
          }
        },
        "93f8afc816da4e27ad65e73298752551": {
          "model_module": "@jupyter-widgets/controls",
          "model_module_version": "1.5.0",
          "model_name": "HTMLModel",
          "state": {
            "_dom_classes": [],
            "_model_module": "@jupyter-widgets/controls",
            "_model_module_version": "1.5.0",
            "_model_name": "HTMLModel",
            "_view_count": null,
            "_view_module": "@jupyter-widgets/controls",
            "_view_module_version": "1.5.0",
            "_view_name": "HTMLView",
            "description": "",
            "description_tooltip": null,
            "layout": "IPY_MODEL_8bf38fb5229645c29e5eadf0878deb2a",
            "placeholder": "​",
            "style": "IPY_MODEL_0397281400ac481fbc3608462b173220",
            "value": " 184640/184640 [00:23&lt;00:00, 8129.49 examples/s]"
          }
        },
        "9943a46a826d4f6eaaf306a103c294df": {
          "model_module": "@jupyter-widgets/controls",
          "model_module_version": "1.5.0",
          "model_name": "DescriptionStyleModel",
          "state": {
            "_model_module": "@jupyter-widgets/controls",
            "_model_module_version": "1.5.0",
            "_model_name": "DescriptionStyleModel",
            "_view_count": null,
            "_view_module": "@jupyter-widgets/base",
            "_view_module_version": "1.2.0",
            "_view_name": "StyleView",
            "description_width": ""
          }
        },
        "a73b634cce9348ccbde26aea944673f2": {
          "model_module": "@jupyter-widgets/controls",
          "model_module_version": "1.5.0",
          "model_name": "HBoxModel",
          "state": {
            "_dom_classes": [],
            "_model_module": "@jupyter-widgets/controls",
            "_model_module_version": "1.5.0",
            "_model_name": "HBoxModel",
            "_view_count": null,
            "_view_module": "@jupyter-widgets/controls",
            "_view_module_version": "1.5.0",
            "_view_name": "HBoxView",
            "box_style": "",
            "children": [
              "IPY_MODEL_641811e98b654ecdaa26d5f2278bf520",
              "IPY_MODEL_cb0aa16e7cad4ee09653f826ed7c4688",
              "IPY_MODEL_eedfc9bf7e5149fb977aa70d95b6189a"
            ],
            "layout": "IPY_MODEL_b537cf9c36c048f4a87fb3acf0c14f8a"
          }
        },
        "b537cf9c36c048f4a87fb3acf0c14f8a": {
          "model_module": "@jupyter-widgets/base",
          "model_module_version": "1.2.0",
          "model_name": "LayoutModel",
          "state": {
            "_model_module": "@jupyter-widgets/base",
            "_model_module_version": "1.2.0",
            "_model_name": "LayoutModel",
            "_view_count": null,
            "_view_module": "@jupyter-widgets/base",
            "_view_module_version": "1.2.0",
            "_view_name": "LayoutView",
            "align_content": null,
            "align_items": null,
            "align_self": null,
            "border": null,
            "bottom": null,
            "display": null,
            "flex": null,
            "flex_flow": null,
            "grid_area": null,
            "grid_auto_columns": null,
            "grid_auto_flow": null,
            "grid_auto_rows": null,
            "grid_column": null,
            "grid_gap": null,
            "grid_row": null,
            "grid_template_areas": null,
            "grid_template_columns": null,
            "grid_template_rows": null,
            "height": null,
            "justify_content": null,
            "justify_items": null,
            "left": null,
            "margin": null,
            "max_height": null,
            "max_width": null,
            "min_height": null,
            "min_width": null,
            "object_fit": null,
            "object_position": null,
            "order": null,
            "overflow": null,
            "overflow_x": null,
            "overflow_y": null,
            "padding": null,
            "right": null,
            "top": null,
            "visibility": null,
            "width": null
          }
        },
        "cb0aa16e7cad4ee09653f826ed7c4688": {
          "model_module": "@jupyter-widgets/controls",
          "model_module_version": "1.5.0",
          "model_name": "FloatProgressModel",
          "state": {
            "_dom_classes": [],
            "_model_module": "@jupyter-widgets/controls",
            "_model_module_version": "1.5.0",
            "_model_name": "FloatProgressModel",
            "_view_count": null,
            "_view_module": "@jupyter-widgets/controls",
            "_view_module_version": "1.5.0",
            "_view_name": "ProgressView",
            "bar_style": "success",
            "description": "",
            "description_tooltip": null,
            "layout": "IPY_MODEL_1949c38a129145e3b96a426b145cd118",
            "max": 2,
            "min": 0,
            "orientation": "horizontal",
            "style": "IPY_MODEL_8b6d50f701814fa5817ffd3f689ae980",
            "value": 2
          }
        },
        "d2994a608b86414f8ea2cf4bb6e7c055": {
          "model_module": "@jupyter-widgets/controls",
          "model_module_version": "1.5.0",
          "model_name": "HBoxModel",
          "state": {
            "_dom_classes": [],
            "_model_module": "@jupyter-widgets/controls",
            "_model_module_version": "1.5.0",
            "_model_name": "HBoxModel",
            "_view_count": null,
            "_view_module": "@jupyter-widgets/controls",
            "_view_module_version": "1.5.0",
            "_view_name": "HBoxView",
            "box_style": "",
            "children": [
              "IPY_MODEL_0f560c21263d4462869f9bfe9073c2e2",
              "IPY_MODEL_e2e4e557350b4854a333fca0096d1cf1",
              "IPY_MODEL_93f8afc816da4e27ad65e73298752551"
            ],
            "layout": "IPY_MODEL_4ca7ca049628495fbf12096075312821"
          }
        },
        "d620ae0e418c44c88fcc9d72dd1cf806": {
          "model_module": "@jupyter-widgets/controls",
          "model_module_version": "1.5.0",
          "model_name": "DescriptionStyleModel",
          "state": {
            "_model_module": "@jupyter-widgets/controls",
            "_model_module_version": "1.5.0",
            "_model_name": "DescriptionStyleModel",
            "_view_count": null,
            "_view_module": "@jupyter-widgets/base",
            "_view_module_version": "1.2.0",
            "_view_name": "StyleView",
            "description_width": ""
          }
        },
        "d99a1722f73a4e7b9850d009c69ba518": {
          "model_module": "@jupyter-widgets/base",
          "model_module_version": "1.2.0",
          "model_name": "LayoutModel",
          "state": {
            "_model_module": "@jupyter-widgets/base",
            "_model_module_version": "1.2.0",
            "_model_name": "LayoutModel",
            "_view_count": null,
            "_view_module": "@jupyter-widgets/base",
            "_view_module_version": "1.2.0",
            "_view_name": "LayoutView",
            "align_content": null,
            "align_items": null,
            "align_self": null,
            "border": null,
            "bottom": null,
            "display": null,
            "flex": null,
            "flex_flow": null,
            "grid_area": null,
            "grid_auto_columns": null,
            "grid_auto_flow": null,
            "grid_auto_rows": null,
            "grid_column": null,
            "grid_gap": null,
            "grid_row": null,
            "grid_template_areas": null,
            "grid_template_columns": null,
            "grid_template_rows": null,
            "height": null,
            "justify_content": null,
            "justify_items": null,
            "left": null,
            "margin": null,
            "max_height": null,
            "max_width": null,
            "min_height": null,
            "min_width": null,
            "object_fit": null,
            "object_position": null,
            "order": null,
            "overflow": null,
            "overflow_x": null,
            "overflow_y": null,
            "padding": null,
            "right": null,
            "top": null,
            "visibility": null,
            "width": null
          }
        },
        "e2e4e557350b4854a333fca0096d1cf1": {
          "model_module": "@jupyter-widgets/controls",
          "model_module_version": "1.5.0",
          "model_name": "FloatProgressModel",
          "state": {
            "_dom_classes": [],
            "_model_module": "@jupyter-widgets/controls",
            "_model_module_version": "1.5.0",
            "_model_name": "FloatProgressModel",
            "_view_count": null,
            "_view_module": "@jupyter-widgets/controls",
            "_view_module_version": "1.5.0",
            "_view_name": "ProgressView",
            "bar_style": "success",
            "description": "",
            "description_tooltip": null,
            "layout": "IPY_MODEL_d99a1722f73a4e7b9850d009c69ba518",
            "max": 184640,
            "min": 0,
            "orientation": "horizontal",
            "style": "IPY_MODEL_f4be1edc1ffa41eaa9df4659f1c41f56",
            "value": 184640
          }
        },
        "eedfc9bf7e5149fb977aa70d95b6189a": {
          "model_module": "@jupyter-widgets/controls",
          "model_module_version": "1.5.0",
          "model_name": "HTMLModel",
          "state": {
            "_dom_classes": [],
            "_model_module": "@jupyter-widgets/controls",
            "_model_module_version": "1.5.0",
            "_model_name": "HTMLModel",
            "_view_count": null,
            "_view_module": "@jupyter-widgets/controls",
            "_view_module_version": "1.5.0",
            "_view_name": "HTMLView",
            "description": "",
            "description_tooltip": null,
            "layout": "IPY_MODEL_521c7cf6684847298b3e14c7e753f495",
            "placeholder": "​",
            "style": "IPY_MODEL_d620ae0e418c44c88fcc9d72dd1cf806",
            "value": " 2/2 [00:00&lt;00:00, 65.24it/s]"
          }
        },
        "f4be1edc1ffa41eaa9df4659f1c41f56": {
          "model_module": "@jupyter-widgets/controls",
          "model_module_version": "1.5.0",
          "model_name": "ProgressStyleModel",
          "state": {
            "_model_module": "@jupyter-widgets/controls",
            "_model_module_version": "1.5.0",
            "_model_name": "ProgressStyleModel",
            "_view_count": null,
            "_view_module": "@jupyter-widgets/base",
            "_view_module_version": "1.2.0",
            "_view_name": "StyleView",
            "bar_color": null,
            "description_width": ""
          }
        }
      }
    }
  },
  "nbformat": 4,
  "nbformat_minor": 0
}
